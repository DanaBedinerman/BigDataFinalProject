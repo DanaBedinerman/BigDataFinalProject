{
 "cells": [
  {
   "cell_type": "code",
   "execution_count": null,
   "metadata": {},
   "outputs": [
    {
     "name": "stdout",
     "output_type": "stream",
     "text": [
      "23:43\n",
      "PFM-1\n",
      "Sending new data [{\"items\":{\"project\":\"en.wikipedia\",\"article\":\"PFM-1\",\"granularity\":\"daily\",\"timestamp\":\"2022032000\",\"access\":\"desktop\",\"agent\":\"user\",\"views\":205}}]\n"
     ]
    }
   ],
   "source": [
    "import schedule\n",
    "import time\n",
    "from datetime import datetime, timedelta\n",
    "from confluent_kafka import Producer\n",
    "import pandas as pd\n",
    "\n",
    "p = Producer({'bootstrap.servers': 'localhost:9092'})\n",
    "\n",
    "topics = [\"PFM-1\"]\n",
    "\n",
    "\n",
    "def wikipediaRequest():\n",
    "    frames = []\n",
    "    for topic in topics:\n",
    "        print(topic)\n",
    "        start = (datetime.now() - timedelta(1)).strftime('%Y%m%d')\n",
    "        end = (datetime.now() - timedelta(1)).strftime('%Y%m%d')\n",
    "        wiki_url = f'https://wikimedia.org/api/rest_v1/metrics/pageviews/per-article/en.wikipedia.org/desktop/user/{topic}/daily/{start}/{end}'\n",
    "        frames.append(pd.read_json(wiki_url)) \n",
    "    return pd.concat(frames)\n",
    "\n",
    "\n",
    "def getNewWikipediaData():\n",
    "    df = wikipediaRequest()\n",
    "    print('Sending new data', df.to_json(orient='records'))\n",
    "    p.produce('wiki', key='myKey', value=bytes(df.to_json(orient='records'), 'utf-8'))\n",
    "    \n",
    "\n",
    "current_time = datetime.now()\n",
    "future_time = current_time + timedelta(minutes=1)\n",
    "print(future_time.strftime(\"%H:%M\"))\n",
    "schedule.every().day.at(future_time.strftime(\"%H:%M\")).do(getNewWikipediaData)\n",
    "\n",
    "while True:\n",
    "    schedule.run_pending()\n",
    "    time.sleep(1)"
   ]
  }
 ],
 "metadata": {
  "kernelspec": {
   "display_name": "Python 3",
   "language": "python",
   "name": "python3"
  },
  "language_info": {
   "codemirror_mode": {
    "name": "ipython",
    "version": 3
   },
   "file_extension": ".py",
   "mimetype": "text/x-python",
   "name": "python",
   "nbconvert_exporter": "python",
   "pygments_lexer": "ipython3",
   "version": "3.8.8"
  }
 },
 "nbformat": 4,
 "nbformat_minor": 4
}
